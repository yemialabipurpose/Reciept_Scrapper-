{
 "cells": [
  {
   "cell_type": "code",
   "execution_count": 16,
   "metadata": {},
   "outputs": [],
   "source": [
    "import os\n",
    "from mindee import Client, documents\n",
    "import pandas as pd\n",
    "\n",
    "# Init a new client\n",
    "mindee_client = Client(api_key=\"Api_key\")\n",
    "\n",
    "# Folder path containing the receipts\n",
    "folder_path = \"C:/Users/????/Documents/GitHub/Reciept_Scrapper-/Receipts\"\n",
    "\n",
    "# List to store all the data frames\n",
    "dfs = []\n",
    "\n",
    "# Iterate through files in the folder\n",
    "for file_name in os.listdir(folder_path):\n",
    "    if file_name.endswith(\".jpg\"):  # Process only image files (modify file extension if necessary)\n",
    "        file_path = os.path.join(folder_path, file_name)\n",
    "        df = process_receipt(file_path)\n",
    "        dfs.append(df)\n",
    "\n",
    "# Concatenate all the data frames\n",
    "combined_df = pd.concat(dfs, ignore_index=True)\n",
    "\n",
    "# Save the combined data frame to a CSV file\n",
    "combined_df.to_csv('receipts.csv', index=False)\n"
   ]
  },
  {
   "cell_type": "code",
   "execution_count": 13,
   "metadata": {},
   "outputs": [],
   "source": [
    "def process_receipt(file_path):\n",
    "    # Load a file from disk\n",
    "    input_doc = mindee_client.doc_from_path(file_path)\n",
    "\n",
    "    # Parse the document as an invoice by passing the appropriate type\n",
    "    api_response = input_doc.parse(documents.TypeReceiptV5)\n",
    "\n",
    "    quantity = []\n",
    "    unit_price = []\n",
    "    description = []\n",
    "    total_amount = []\n",
    "    date = []\n",
    "    time_of_p = []\n",
    "    store = []\n",
    "\n",
    "    for line_item in api_response.document.line_items:\n",
    "        description.append(line_item.description)\n",
    "        quantity.append(line_item.quantity)\n",
    "        unit_price.append(line_item.unit_price)\n",
    "        total_amount.append(line_item.total_amount)\n",
    "        date.append(api_response.document.date.value)\n",
    "        time_of_p.append(api_response.document.time.value)\n",
    "        store.append(api_response.document.supplier_name.value)\n",
    "\n",
    "    line_items = [description, quantity, unit_price, total_amount, date, time_of_p, store]\n",
    "\n",
    "    # Transpose the list of lists\n",
    "    line_items = list(zip(*line_items))\n",
    "\n",
    "    # Create the data frame\n",
    "    df = pd.DataFrame(line_items, columns=['Description', 'Quantity', 'Unit Price', 'Total Amount', 'Date', 'Time', 'Store'])\n",
    "\n",
    "    return df"
   ]
  }
 ],
 "metadata": {
  "kernelspec": {
   "display_name": "Python 3",
   "language": "python",
   "name": "python3"
  },
  "language_info": {
   "codemirror_mode": {
    "name": "ipython",
    "version": 3
   },
   "file_extension": ".py",
   "mimetype": "text/x-python",
   "name": "python",
   "nbconvert_exporter": "python",
   "pygments_lexer": "ipython3",
   "version": "3.9.13"
  },
  "orig_nbformat": 4
 },
 "nbformat": 4,
 "nbformat_minor": 2
}
